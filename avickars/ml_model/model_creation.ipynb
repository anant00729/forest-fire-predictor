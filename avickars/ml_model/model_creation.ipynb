{
 "cells": [
  {
   "cell_type": "code",
   "execution_count": 16,
   "metadata": {
    "pycharm": {
     "is_executing": true
    }
   },
   "outputs": [],
   "source": [
    "import pandas as pd\n",
    "import os\n",
    "from torch.utils.data import DataLoader, Dataset\n",
    "import torch.nn as nn\n",
    "import torch.nn.functional as F\n",
    "import torch.optim as optim\n",
    "import torch\n",
    "import numpy as np\n",
    "from torch.utils.data import Subset\n",
    "from sklearn.model_selection import train_test_split\n",
    "from sklearn import preprocessing"
   ]
  },
  {
   "cell_type": "markdown",
   "metadata": {},
   "source": [
    "# Reading in the data"
   ]
  },
  {
   "cell_type": "code",
   "execution_count": 17,
   "metadata": {
    "pycharm": {
     "is_executing": true
    }
   },
   "outputs": [],
   "source": [
    "inputs = \"C:/Users/Aidan/OneDrive - Simon Fraser University (1sfu)/Forest Fire Data Sets/Model/Input/\""
   ]
  },
  {
   "cell_type": "code",
   "execution_count": 18,
   "metadata": {
    "pycharm": {
     "is_executing": true
    }
   },
   "outputs": [
    {
     "name": "stdout",
     "output_type": "stream",
     "text": [
      "part-00000-3cf16e0f-ca38-45f7-8eaa-c6026341b7ec-c000.snappy.parquet\n"
     ]
    }
   ],
   "source": [
    "for file in os.listdir(inputs):\n",
    "    # Only reading in the csv file - I know there will only be a single CSV file.\n",
    "    if file[-7:] == 'parquet':\n",
    "        print(file)\n",
    "        data = pd.read_parquet(inputs + file)"
   ]
  },
  {
   "cell_type": "code",
   "execution_count": 19,
   "metadata": {},
   "outputs": [
    {
     "data": {
      "text/html": [
       "<div>\n",
       "<style scoped>\n",
       "    .dataframe tbody tr th:only-of-type {\n",
       "        vertical-align: middle;\n",
       "    }\n",
       "\n",
       "    .dataframe tbody tr th {\n",
       "        vertical-align: top;\n",
       "    }\n",
       "\n",
       "    .dataframe thead th {\n",
       "        text-align: right;\n",
       "    }\n",
       "</style>\n",
       "<table border=\"1\" class=\"dataframe\">\n",
       "  <thead>\n",
       "    <tr style=\"text-align: right;\">\n",
       "      <th></th>\n",
       "      <th>squareID</th>\n",
       "      <th>date</th>\n",
       "      <th>inputs</th>\n",
       "      <th>hasFire</th>\n",
       "    </tr>\n",
       "  </thead>\n",
       "  <tbody>\n",
       "    <tr>\n",
       "      <th>0</th>\n",
       "      <td>0</td>\n",
       "      <td>1942-07-15</td>\n",
       "      <td>None</td>\n",
       "      <td>0</td>\n",
       "    </tr>\n",
       "    <tr>\n",
       "      <th>1</th>\n",
       "      <td>0</td>\n",
       "      <td>1943-01-11</td>\n",
       "      <td>None</td>\n",
       "      <td>0</td>\n",
       "    </tr>\n",
       "    <tr>\n",
       "      <th>2</th>\n",
       "      <td>0</td>\n",
       "      <td>1943-03-03</td>\n",
       "      <td>None</td>\n",
       "      <td>0</td>\n",
       "    </tr>\n",
       "    <tr>\n",
       "      <th>3</th>\n",
       "      <td>0</td>\n",
       "      <td>1943-06-18</td>\n",
       "      <td>None</td>\n",
       "      <td>0</td>\n",
       "    </tr>\n",
       "    <tr>\n",
       "      <th>4</th>\n",
       "      <td>0</td>\n",
       "      <td>1943-10-30</td>\n",
       "      <td>None</td>\n",
       "      <td>0</td>\n",
       "    </tr>\n",
       "    <tr>\n",
       "      <th>...</th>\n",
       "      <td>...</td>\n",
       "      <td>...</td>\n",
       "      <td>...</td>\n",
       "      <td>...</td>\n",
       "    </tr>\n",
       "    <tr>\n",
       "      <th>1054525</th>\n",
       "      <td>77309411328</td>\n",
       "      <td>2019-10-17</td>\n",
       "      <td>None</td>\n",
       "      <td>0</td>\n",
       "    </tr>\n",
       "    <tr>\n",
       "      <th>1054526</th>\n",
       "      <td>77309411328</td>\n",
       "      <td>2020-03-21</td>\n",
       "      <td>None</td>\n",
       "      <td>0</td>\n",
       "    </tr>\n",
       "    <tr>\n",
       "      <th>1054527</th>\n",
       "      <td>77309411328</td>\n",
       "      <td>2020-04-01</td>\n",
       "      <td>None</td>\n",
       "      <td>0</td>\n",
       "    </tr>\n",
       "    <tr>\n",
       "      <th>1054528</th>\n",
       "      <td>77309411328</td>\n",
       "      <td>2020-05-14</td>\n",
       "      <td>None</td>\n",
       "      <td>0</td>\n",
       "    </tr>\n",
       "    <tr>\n",
       "      <th>1054529</th>\n",
       "      <td>77309411328</td>\n",
       "      <td>2020-06-12</td>\n",
       "      <td>None</td>\n",
       "      <td>0</td>\n",
       "    </tr>\n",
       "  </tbody>\n",
       "</table>\n",
       "<p>1054530 rows × 4 columns</p>\n",
       "</div>"
      ],
      "text/plain": [
       "            squareID       date inputs  hasFire\n",
       "0                  0 1942-07-15   None        0\n",
       "1                  0 1943-01-11   None        0\n",
       "2                  0 1943-03-03   None        0\n",
       "3                  0 1943-06-18   None        0\n",
       "4                  0 1943-10-30   None        0\n",
       "...              ...        ...    ...      ...\n",
       "1054525  77309411328 2019-10-17   None        0\n",
       "1054526  77309411328 2020-03-21   None        0\n",
       "1054527  77309411328 2020-04-01   None        0\n",
       "1054528  77309411328 2020-05-14   None        0\n",
       "1054529  77309411328 2020-06-12   None        0\n",
       "\n",
       "[1054530 rows x 4 columns]"
      ]
     },
     "execution_count": 19,
     "metadata": {},
     "output_type": "execute_result"
    }
   ],
   "source": [
    "data"
   ]
  },
  {
   "cell_type": "code",
   "execution_count": null,
   "metadata": {},
   "outputs": [],
   "source": []
  },
  {
   "cell_type": "markdown",
   "metadata": {},
   "source": [
    "# Modelling"
   ]
  },
  {
   "cell_type": "markdown",
   "metadata": {},
   "source": [
    "## Functions and Modelling"
   ]
  },
  {
   "cell_type": "code",
   "execution_count": null,
   "metadata": {},
   "outputs": [],
   "source": [
    "def train_val_dataset(dataset, val_split=0.25):\n",
    "    # CITATION: https://discuss.pytorch.org/t/how-to-split-dataset-into-test-and-validation-sets/33987/5\n",
    "    train_idx, val_idx = train_test_split(list(range(len(dataset))), test_size=val_split)\n",
    "    datasets = {}\n",
    "    return Subset(dataset, train_idx), Subset(dataset, val_idx)"
   ]
  },
  {
   "cell_type": "code",
   "execution_count": null,
   "metadata": {},
   "outputs": [],
   "source": [
    "# determine the supported device\n",
    "def get_device():\n",
    "    if torch.cuda.is_available():\n",
    "        device = torch.device('cuda:0')\n",
    "    else:\n",
    "        device = torch.device('cpu') # don't have GPU \n",
    "    return device"
   ]
  },
  {
   "cell_type": "code",
   "execution_count": null,
   "metadata": {},
   "outputs": [],
   "source": [
    "class ModelInput(Dataset):\n",
    "    # CITATION: https://www.youtube.com/watch?v=PXOzkkB5eH0\n",
    "    def __init__(self, input_path=\"C:/Users/Aidan/OneDrive - Simon Fraser University (1sfu)/Forest Fire Data Sets/Model/Input/\"):\n",
    "        for file in os.listdir(input_path):\n",
    "            # Only reading in the parquet file - I know there will only be a single CSV file.\n",
    "            if file[-7:] == 'parquet':\n",
    "                data = pd.read_parquet(input_path + file)\n",
    "        self.x = data['inputs'].values\n",
    "        self.y = data[['squareID','date','hasFire']].values\n",
    "        self.n_samples = data.values.shape[0]\n",
    "    \n",
    "    def __getitem__(self, index):\n",
    "        sequence = self.preprocess_x(self.x[index])\n",
    "        label = self.preprocess_y(self.y[index])\n",
    "        return sequence, label\n",
    "        \n",
    "    def __len__(self):\n",
    "        return self.n_samples\n",
    "    \n",
    "    def preprocess_x(self, sequence):\n",
    "        seq = []\n",
    "        # CITATION: https://towardsdatascience.com/dataloader-for-sequential-data-using-pytorch-deep-learning-framework-part-2-ed3ad5f6ad82\n",
    "        for previousDay in sequence:\n",
    "            seq.append(previousDay)\n",
    "        return torch.from_numpy(np.array(seq))\n",
    "    \n",
    "    def preprocess_y(self, values):\n",
    "        return torch.tensor(np.array([values[0], \n",
    "                                      int(values[1].strftime(\"%Y%m%d\")),\n",
    "                                      values[2]]))"
   ]
  },
  {
   "cell_type": "code",
   "execution_count": null,
   "metadata": {},
   "outputs": [],
   "source": [
    "# Creating the dataset\n",
    "modelInput = ModelInput()\n",
    "\n",
    "# Creating the split\n",
    "train_data, validation_data = train_val_dataset(modelInput, val_split=0.1)"
   ]
  },
  {
   "cell_type": "code",
   "execution_count": null,
   "metadata": {},
   "outputs": [],
   "source": [
    "# Defining the dataloaders\n",
    "# NOTE: there is a bug in pytorch, have to set num_workers=0 for the data loaders to work\n",
    "trainLoader = DataLoader(train_data, batch_size=1, shuffle=True, num_workers=0)\n",
    "validLoader = DataLoader(validation_data, batch_size=1, shuffle=False, num_workers=0)"
   ]
  },
  {
   "cell_type": "code",
   "execution_count": null,
   "metadata": {},
   "outputs": [],
   "source": [
    "# Defining the max number of epochs\n",
    "NUM_EPOCHS = 20"
   ]
  },
  {
   "cell_type": "code",
   "execution_count": null,
   "metadata": {},
   "outputs": [],
   "source": [
    "# Defining the device so I don't keep calling the function\n",
    "device = get_device()"
   ]
  },
  {
   "cell_type": "code",
   "execution_count": null,
   "metadata": {},
   "outputs": [],
   "source": [
    "class Model(nn.Module):\n",
    "    # CITATION: https://github.com/avickars/NHL-Database/blob/master/Analysis/player-valuation-deep_rl.ipynb\n",
    "    def __init__(self):\n",
    "        super().__init__()\n",
    "        self.inputSize = 4\n",
    "        self.numLSTMNodes = 100\n",
    "        self.numLSTMLayers = 1\n",
    "        \n",
    "        self.lstmLayer = nn.LSTM(input_size=self.inputSize, \n",
    "                                  hidden_size=self.numLSTMNodes,\n",
    "                                  num_layers=self.numLSTMLayers, \n",
    "                                  bias=True, \n",
    "                                  dropout=0, \n",
    "                                  batch_first=True).double()\n",
    "        self.hidden1 = nn.Linear(in_features=self.numLSTMNodes, out_features=100).double()   \n",
    "        self.hidden2 = nn.Linear(in_features=100, out_features=100).double()   \n",
    "        self.output = nn.Linear(in_features=100, out_features=1).double()\n",
    "        \n",
    "    def forward(self, modelInput):\n",
    "        hidden = (\n",
    "                    torch.cuda.FloatTensor(self.numLSTMLayers , 1, self.numLSTMNodes).normal_().double() ,\n",
    "                    torch.cuda.FloatTensor(self.numLSTMLayers , 1, self.numLSTMNodes).normal_().double() \n",
    "                  )\n",
    "        \n",
    "        # Using a for loop here to handle to varying lengths of the sequences\n",
    "        for sequence in modelInput:\n",
    "            out, hidden = self.lstmLayer(sequence.view(1,1,-1), hidden)\n",
    "        t = F.relu(out)\n",
    "        t = F.relu(self.hidden1(t))\n",
    "        t = F.relu(self.hidden2(t))\n",
    "        t = F.sigmoid(self.output(t))\n",
    "        return t   "
   ]
  },
  {
   "cell_type": "code",
   "execution_count": null,
   "metadata": {
    "pycharm": {
     "is_executing": true
    }
   },
   "outputs": [],
   "source": [
    "# Defining the model\n",
    "model = Model()\n",
    "# Moving Model to GPU (if available) otherwise it just stays on the CPU\n",
    "model.to(device)"
   ]
  },
  {
   "cell_type": "code",
   "execution_count": null,
   "metadata": {},
   "outputs": [],
   "source": [
    "optimizer = optim.SGD(model.parameters(), lr=0.5)\n",
    "criterion = nn.MSELoss()"
   ]
  },
  {
   "cell_type": "code",
   "execution_count": null,
   "metadata": {
    "pycharm": {
     "is_executing": true
    }
   },
   "outputs": [],
   "source": [
    "# CITATION: https://pytorch.org/tutorials/beginner/blitz/cifar10_tutorial.html\n",
    "for epoch in range(NUM_EPOCHS):\n",
    "    running_loss = 0.0\n",
    "    for i, data in enumerate(trainLoader, 0):\n",
    "        # get the inputs\n",
    "        inputs, labels = data\n",
    "        \n",
    "        inputs = inputs.to(device)\n",
    "        actualLabel = labels[:,2].to(device)\n",
    "        \n",
    "        output = model(inputs[0].double())\n",
    "        \n",
    "        loss = criterion(output, actualLabel.double())\n",
    "        loss.backward()\n",
    "        \n",
    "        # print statistics\n",
    "        running_loss += loss.item()\n",
    "        if i % 1000 == 0:    # print every 2000 mini-batches\n",
    "            print('[%d, %5d] loss: %.10f' %\n",
    "                  (epoch + 1, i, running_loss / 1000))\n",
    "            running_loss = 0.0    "
   ]
  },
  {
   "cell_type": "code",
   "execution_count": null,
   "metadata": {
    "pycharm": {
     "is_executing": true
    }
   },
   "outputs": [],
   "source": [
    "torch.save(model.state_dict(), './model.pt')"
   ]
  },
  {
   "cell_type": "code",
   "execution_count": null,
   "metadata": {
    "pycharm": {
     "is_executing": true
    }
   },
   "outputs": [],
   "source": []
  },
  {
   "cell_type": "code",
   "execution_count": null,
   "metadata": {
    "pycharm": {
     "is_executing": true
    }
   },
   "outputs": [],
   "source": []
  }
 ],
 "metadata": {
  "kernelspec": {
   "display_name": "Python 3 (ipykernel)",
   "language": "python",
   "name": "python3"
  },
  "language_info": {
   "codemirror_mode": {
    "name": "ipython",
    "version": 3
   },
   "file_extension": ".py",
   "mimetype": "text/x-python",
   "name": "python",
   "nbconvert_exporter": "python",
   "pygments_lexer": "ipython3",
   "version": "3.8.12"
  }
 },
 "nbformat": 4,
 "nbformat_minor": 1
}